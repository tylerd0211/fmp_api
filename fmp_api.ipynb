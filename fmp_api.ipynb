{
 "cells": [
  {
   "cell_type": "code",
   "execution_count": 1,
   "id": "39971878-40e8-4ecc-a4d3-bde4b4c1a554",
   "metadata": {},
   "outputs": [],
   "source": [
    "import ssl\n",
    "import certifi\n",
    "import json\n",
    "\n",
    "import psycopg2\n",
    "\n",
    "from urllib.request import urlopen \n",
    "import requests\n"
   ]
  },
  {
   "cell_type": "code",
   "execution_count": 30,
   "id": "4bd7a36f-9cfb-454f-af43-eb499d1c485b",
   "metadata": {},
   "outputs": [
    {
     "ename": "ModuleNotFoundError",
     "evalue": "No module named 'fmp_client'",
     "output_type": "error",
     "traceback": [
      "\u001b[0;31m---------------------------------------------------------------------------\u001b[0m",
      "\u001b[0;31mModuleNotFoundError\u001b[0m                       Traceback (most recent call last)",
      "Cell \u001b[0;32mIn[30], line 4\u001b[0m\n\u001b[1;32m      2\u001b[0m \u001b[38;5;28;01mimport\u001b[39;00m \u001b[38;5;21;01mos\u001b[39;00m\n\u001b[1;32m      3\u001b[0m \u001b[38;5;28;01mimport\u001b[39;00m \u001b[38;5;21;01mcsv\u001b[39;00m\n\u001b[0;32m----> 4\u001b[0m \u001b[38;5;28;01mfrom\u001b[39;00m \u001b[38;5;21;01mfmp_client\u001b[39;00m \u001b[38;5;28;01mimport\u001b[39;00m FMPAPIClient\n",
      "\u001b[0;31mModuleNotFoundError\u001b[0m: No module named 'fmp_client'"
     ]
    }
   ],
   "source": [
    "from dotenv import load_dotenv\n",
    "import os\n",
    "import csv\n",
    "from fmp_client import FMPAPIClient"
   ]
  },
  {
   "cell_type": "code",
   "execution_count": 26,
   "id": "c99a851b-0ac1-4fc9-991b-2fa8498acdcb",
   "metadata": {},
   "outputs": [],
   "source": [
    "load_dotenv()\n",
    "API_KEY = os.getenv(\"API_KEY\")"
   ]
  },
  {
   "cell_type": "code",
   "execution_count": 33,
   "id": "af743ded-15ae-45d7-b5cf-18c56988d660",
   "metadata": {},
   "outputs": [],
   "source": [
    "class FMPAPIClient:\n",
    "    \"\"\"A class to interact with Financial Modeling Prep (FMP) API and fetch raw data.\"\"\"\n",
    "\n",
    "    def __init__(self, api_key):\n",
    "        self.api_key = api_key\n",
    "\n",
    "    def get_json_data(self, url):\n",
    "        \"\"\"Fetch and Parse JSON data from a URL\"\"\"\n",
    "        try:\n",
    "            context = ssl.create_default_context(cafile=certifi.where())\n",
    "            response = urlopen(url, context=context)\n",
    "            data = response.read().decode(\"utf-8\")\n",
    "            return json.loads(data)\n",
    "        except Exception as e:\n",
    "            print(f\"Error fetching data from {url}: {e}\")\n",
    "            return None\n",
    "\n",
    "    def fetch_stock_list(self):\n",
    "        \"\"\"Fetch the list of all stocks.\"\"\"\n",
    "        url = f\"https://financialmodelingprep.com/api/v3/stock/list?apikey={self.api_key}\"\n",
    "        return self.get_json_data(url)\n",
    "\n",
    "    def fetch_company_profile(self, symbol):\n",
    "        \"\"\"Fetch the company profile for a specific symbol.\"\"\"\n",
    "        url = f\"https://financialmodelingprep.com/api/v3/profile/{symbol}?apikey={self.api_key}\"\n",
    "        return self.get_json_data(url)\n",
    "\n",
    "    \n",
    "    "
   ]
  },
  {
   "cell_type": "code",
   "execution_count": 34,
   "id": "9f276548-70bc-4379-ad01-9bcbec11c57d",
   "metadata": {},
   "outputs": [
    {
     "name": "stdout",
     "output_type": "stream",
     "text": [
      "Total Indian Companies Found: 6440\n",
      "Data saved to indian_companies_list.csv\n"
     ]
    }
   ],
   "source": [
    "# Initialize FMP API Client\n",
    "client = FMPAPIClient(API_KEY)\n",
    "\n",
    "# Fetch Indian Companies List\n",
    "def fetch_indian_companies_list():\n",
    "    \"\"\"Fetch a list of all Indian companies.\"\"\"\n",
    "    stock_list = client.fetch_stock_list()\n",
    "    if not stock_list:\n",
    "        print(\"No stock data fetched.\")\n",
    "        return []\n",
    "\n",
    "    indian_exchanges = [\"NSE\", \"BSE\"]\n",
    "    indian_companies = [\n",
    "        stock for stock in stock_list if stock.get(\"exchangeShortName\") in indian_exchanges\n",
    "    ]\n",
    "    print(f\"Total Indian Companies Found: {len(indian_companies)}\")\n",
    "    return indian_companies\n",
    "\n",
    "# Save Indian Companies to CSV\n",
    "def save_to_csv(data, filename):\n",
    "    \"\"\"Save data to a CSV file.\"\"\"\n",
    "    if not data:\n",
    "        print(\"No data to save.\")\n",
    "        return\n",
    "\n",
    "    with open(filename, \"w\", newline=\"\", encoding=\"utf-8\") as csvfile:\n",
    "        writer = csv.DictWriter(csvfile, fieldnames=data[0].keys())\n",
    "        writer.writeheader()\n",
    "        writer.writerows(data)\n",
    "    print(f\"Data saved to {filename}\")\n",
    "\n",
    "# Main script\n",
    "if __name__ == \"__main__\":\n",
    "    indian_companies = fetch_indian_companies_list()\n",
    "    save_to_csv(indian_companies, \"indian_companies_list.csv\")"
   ]
  },
  {
   "cell_type": "code",
   "execution_count": 35,
   "id": "4ae2ff9d-2536-411a-92b4-d01285e026c1",
   "metadata": {},
   "outputs": [
    {
     "name": "stdout",
     "output_type": "stream",
     "text": [
      "Total Indian Companies Found: 6440\n",
      "Data saved to indian_company_profiles.csv\n"
     ]
    }
   ],
   "source": [
    "# Fetch Indian Companies Profiles\n",
    "def fetch_indian_company_profiles():\n",
    "    \"\"\"Fetch profiles for all Indian companies.\"\"\"\n",
    "    stock_list = client.fetch_stock_list()\n",
    "    if not stock_list:\n",
    "        print(\"No stock data fetched.\")\n",
    "        return []\n",
    "\n",
    "    indian_exchanges = [\"NSE\", \"BSE\"]\n",
    "    indian_companies = [\n",
    "        stock for stock in stock_list if stock.get(\"exchangeShortName\") in indian_exchanges\n",
    "    ]\n",
    "    print(f\"Total Indian Companies Found: {len(indian_companies)}\")\n",
    "    profiles = []\n",
    "\n",
    "    for company in indian_companies:\n",
    "        symbol = company.get(\"symbol\")\n",
    "        profile = client.fetch_company_profile(symbol)\n",
    "        if profile:\n",
    "            profiles.append(profile[0])  # Append the first object in the response\n",
    "\n",
    "    return profiles\n",
    "\n",
    "# Save Profiles to CSV\n",
    "def save_to_csv(data, filename):\n",
    "    \"\"\"Save data to a CSV file.\"\"\"\n",
    "    if not data:\n",
    "        print(\"No data to save.\")\n",
    "        return\n",
    "\n",
    "    with open(filename, \"w\", newline=\"\", encoding=\"utf-8\") as csvfile:\n",
    "        writer = csv.DictWriter(csvfile, fieldnames=data[0].keys())\n",
    "        writer.writeheader()\n",
    "        writer.writerows(data)\n",
    "    print(f\"Data saved to {filename}\")\n",
    "\n",
    "# Main script\n",
    "if __name__ == \"__main__\":\n",
    "    indian_profiles = fetch_indian_company_profiles()\n",
    "    save_to_csv(indian_profiles, \"indian_company_profiles.csv\")"
   ]
  },
  {
   "cell_type": "code",
   "execution_count": 20,
   "id": "b2483b98-078e-4d3c-8a4c-6a2ff746367d",
   "metadata": {},
   "outputs": [],
   "source": [
    "def push_to_postgres(data, db_config):\n",
    "    try:\n",
    "        # Connect to PostgreSQL\n",
    "        conn = psycopg2.connect(**db_config)\n",
    "        cur = conn.cursor()\n",
    "        \n",
    "        # Create table if not exists\n",
    "        create_table_query = \"\"\"\n",
    "        CREATE TABLE IF NOT EXISTS indian_companies (\n",
    "            id SERIAL PRIMARY KEY,\n",
    "            symbol TEXT,\n",
    "            name TEXT,\n",
    "            exchange TEXT,\n",
    "            exchangeShortName TEXT,\n",
    "            type TEXT \n",
    "        );\n",
    "        \"\"\"\n",
    "        cur.execute(create_table_query)\n",
    "        \n",
    "        # Insert data (exclude price field)\n",
    "        for company in data:\n",
    "            insert_query = \"\"\"\n",
    "            INSERT INTO indian_companies (symbol, name, exchange, exchangeShortName, type)\n",
    "            VALUES (%s, %s, %s, %s, %s)\n",
    "            \"\"\"\n",
    "            cur.execute(insert_query, (\n",
    "                company.get(\"symbol\"),\n",
    "                company.get(\"name\"),\n",
    "                company.get(\"exchange\"),\n",
    "                company.get(\"exchangeShortName\"),\n",
    "                company.get(\"type\"),\n",
    "            ))\n",
    "        \n",
    "        # Commit changes and close connection\n",
    "        conn.commit()\n",
    "        cur.close()\n",
    "        conn.close()\n",
    "        print(\"Data successfully pushed to PostgreSQL (price excluded).\")\n",
    "    except Exception as e:\n",
    "        print(f\"Error pushing data to PostgreSQL: {e}\")\n"
   ]
  },
  {
   "cell_type": "code",
   "execution_count": 23,
   "id": "732dc697-ea20-4f18-b377-9070ed6310ba",
   "metadata": {},
   "outputs": [],
   "source": [
    "# PostgreSQL configuration\n",
    "db_config = {\n",
    "    \"host\": \"localhost\",\n",
    "    \"database\": \"chain8_fmp\",\n",
    "    \"user\": \"chain8_fmp\",\n",
    "    \"password\": \"chain8_fmp\",\n",
    "    \"port\": \"5433\"\n",
    "}"
   ]
  },
  {
   "cell_type": "code",
   "execution_count": 22,
   "id": "592aec66-d89b-4f0a-b66a-b134869465fe",
   "metadata": {
    "scrolled": true
   },
   "outputs": [
    {
     "name": "stdout",
     "output_type": "stream",
     "text": [
      "Total Indian Companies Found: 6440\n",
      "Symbol: GOKAKTEX.BO, Name: Gokak Textiles Limited, Exchange: BSE, Type: stock\n",
      "Symbol: IDEA.BO, Name: Vodafone Idea Limited, Exchange: BSE, Type: stock\n",
      "Symbol: AJMERA.BO, Name: Ajmera Realty & Infra India Limited, Exchange: BSE, Type: stock\n",
      "Symbol: RUDRA.BO, Name: Rudra Global Infra Products Limited, Exchange: BSE, Type: stock\n",
      "Symbol: SPICEJET.BO, Name: SpiceJet Limited, Exchange: BSE, Type: stock\n",
      "Data saved to indian_companies_fmp.csv\n",
      "Error pushing data to PostgreSQL: invalid integer value \"5433:5432\" for connection option \"port\"\n",
      "\n"
     ]
    }
   ],
   "source": [
    "# Fetch data\n",
    "indian_companies = fetch_indian_companies(API_KEY)\n",
    "\n",
    "# Save to CSV\n",
    "csv_filename = \"indian_companies_fmp.csv\"\n",
    "save_to_csv(indian_companies, csv_filename)\n",
    "\n"
   ]
  },
  {
   "cell_type": "code",
   "execution_count": 24,
   "id": "4143d471-0d98-45fd-90e7-1a843b9add7a",
   "metadata": {},
   "outputs": [
    {
     "name": "stdout",
     "output_type": "stream",
     "text": [
      "Data successfully pushed to PostgreSQL (price excluded).\n"
     ]
    }
   ],
   "source": [
    "# Push to PostgreSQL\n",
    "push_to_postgres(indian_companies, db_config)"
   ]
  },
  {
   "cell_type": "code",
   "execution_count": 36,
   "id": "015e4335-6a9d-447b-a00c-f8b36e63138e",
   "metadata": {},
   "outputs": [],
   "source": [
    "import pandas as pd\n",
    "import numpy as np"
   ]
  },
  {
   "cell_type": "code",
   "execution_count": 37,
   "id": "5bfc5bf6-1438-489b-a9b1-4fd88c32bd86",
   "metadata": {},
   "outputs": [
    {
     "name": "stdout",
     "output_type": "stream",
     "text": [
      "        symbol    price      beta    volAvg        mktCap  lastDiv  \\\n",
      "0    AJMERA.BO  1055.75  1.039000     11561   38212448950  3.92157   \n",
      "1  GOKAKTEX.BO   174.00  0.153179      1515    1130879940  0.00000   \n",
      "2      IDEA.BO     8.29  0.558000  58527901  577811421891  0.00000   \n",
      "3  SPICEJET.BO    62.29  0.000000   1219676   79836470100  0.00000   \n",
      "4     RUDRA.BO    51.39  0.200736      1825    5156678160  0.00000   \n",
      "\n",
      "           range  changes                          companyName currency  ...  \\\n",
      "0  413.35-1120.0   -33.05  Ajmera Realty & Infra India Limited      INR  ...   \n",
      "1     9.03-183.4    -0.85               Gokak Textiles Limited      INR  ...   \n",
      "2      6.6-19.15    -0.07                Vodafone Idea Limited      INR  ...   \n",
      "3    30.8-107.95     0.36                     SpiceJet Limited      INR  ...   \n",
      "4    46.02-113.9     5.27  Rudra Global Infra Products Limited      INR  ...   \n",
      "\n",
      "      zip    dcfDiff          dcf  \\\n",
      "0  400053 -586.31200  1640.662000   \n",
      "1     NaN  350.52800  -167.727999   \n",
      "2  400030        NaN     0.000000   \n",
      "3     NaN   65.65488    -3.364881   \n",
      "4     NaN   86.53687   -35.146870   \n",
      "\n",
      "                                               image     ipoDate defaultImage  \\\n",
      "0  https://images.financialmodelingprep.com/symbo...  2000-01-03        False   \n",
      "1  https://images.financialmodelingprep.com/symbo...         NaN         True   \n",
      "2  https://images.financialmodelingprep.com/symbo...         NaN        False   \n",
      "3  https://images.financialmodelingprep.com/symbo...  1995-05-02        False   \n",
      "4  https://images.financialmodelingprep.com/symbo...  2015-07-16        False   \n",
      "\n",
      "   isEtf isActivelyTrading  isAdr isFund  \n",
      "0  False              True  False  False  \n",
      "1  False              True  False  False  \n",
      "2  False              True  False  False  \n",
      "3  False              True  False  False  \n",
      "4  False              True  False  False  \n",
      "\n",
      "[5 rows x 36 columns]\n"
     ]
    }
   ],
   "source": [
    "file_path = '/data-sdb/fmp_api/indian_company_profiles.csv'  # Replace with the correct path to your file\n",
    "df = pd.read_csv(file_path)\n",
    "print(df.head())"
   ]
  },
  {
   "cell_type": "code",
   "execution_count": 38,
   "id": "438b395a-4ade-4d58-9e59-11006b0ade44",
   "metadata": {},
   "outputs": [
    {
     "name": "stdout",
     "output_type": "stream",
     "text": [
      "Index(['symbol', 'price', 'beta', 'volAvg', 'mktCap', 'lastDiv', 'range',\n",
      "       'changes', 'companyName', 'currency', 'cik', 'isin', 'cusip',\n",
      "       'exchange', 'exchangeShortName', 'industry', 'website', 'description',\n",
      "       'ceo', 'sector', 'country', 'fullTimeEmployees', 'phone', 'address',\n",
      "       'city', 'state', 'zip', 'dcfDiff', 'dcf', 'image', 'ipoDate',\n",
      "       'defaultImage', 'isEtf', 'isActivelyTrading', 'isAdr', 'isFund'],\n",
      "      dtype='object')\n"
     ]
    }
   ],
   "source": [
    "print(df.columns)"
   ]
  },
  {
   "cell_type": "code",
   "execution_count": 39,
   "id": "66e996ee-c5b6-4b6d-8b67-19815d9ba1ea",
   "metadata": {},
   "outputs": [
    {
     "data": {
      "text/plain": [
       "6440"
      ]
     },
     "execution_count": 39,
     "metadata": {},
     "output_type": "execute_result"
    }
   ],
   "source": [
    "len(df)"
   ]
  },
  {
   "cell_type": "code",
   "execution_count": null,
   "id": "16a2582c-ad97-46a2-a4f8-ade6ca7f7804",
   "metadata": {},
   "outputs": [],
   "source": []
  }
 ],
 "metadata": {
  "kernelspec": {
   "display_name": "Python 3 (ipykernel)",
   "language": "python",
   "name": "python3"
  },
  "language_info": {
   "codemirror_mode": {
    "name": "ipython",
    "version": 3
   },
   "file_extension": ".py",
   "mimetype": "text/x-python",
   "name": "python",
   "nbconvert_exporter": "python",
   "pygments_lexer": "ipython3",
   "version": "3.12.7"
  }
 },
 "nbformat": 4,
 "nbformat_minor": 5
}
