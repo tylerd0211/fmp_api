{
 "cells": [
  {
   "cell_type": "code",
   "execution_count": 1,
   "id": "39971878-40e8-4ecc-a4d3-bde4b4c1a554",
   "metadata": {},
   "outputs": [],
   "source": [
    "import ssl\n",
    "import certifi\n",
    "import json\n",
    "import csv\n",
    "import psycopg2\n",
    "from dotenv import load_dotenv\n",
    "import os\n",
    "from urllib.request import urlopen \n",
    "import requests\n"
   ]
  },
  {
   "cell_type": "code",
   "execution_count": 2,
   "id": "c99a851b-0ac1-4fc9-991b-2fa8498acdcb",
   "metadata": {},
   "outputs": [],
   "source": [
    "load_dotenv()\n",
    "API_KEY = os.getenv(\"API_KEY\")"
   ]
  },
  {
   "cell_type": "code",
   "execution_count": 3,
   "id": "a50e9b5d-a6c9-49c7-9571-fb6265933ebb",
   "metadata": {},
   "outputs": [],
   "source": [
    "def get_jsonparsed_data(url):\n",
    "    context = ssl.create_default_context(cafile=certifi.where())\n",
    "    response = urlopen(url, context=context)\n",
    "    data = response.read().decode(\"utf-8\")\n",
    "    return json.loads(data)\n",
    "    "
   ]
  },
  {
   "cell_type": "code",
   "execution_count": 19,
   "id": "34beec4a-f7b2-468d-af12-a7de722d344e",
   "metadata": {},
   "outputs": [],
   "source": [
    "def fetch_indian_companies(api_key):\n",
    "    url = f\"https://financialmodelingprep.com/api/v3/stock/list?apikey={api_key}\"\n",
    "    stock_list = get_jsonparsed_data(url)\n",
    "    \n",
    "    indian_exchanges = [\"NSE\", \"BSE\"]\n",
    "    indian_companies = [\n",
    "        stock for stock in stock_list if stock.get(\"exchangeShortName\") in indian_exchanges\n",
    "    ]\n",
    "    \n",
    "    print(f\"Total Indian Companies Found: {len(indian_companies)}\")\n",
    "    \n",
    "    for company in indian_companies[:5]:\n",
    "        print(f\"Symbol: {company['symbol']}, Name: {company['name']}, Exchange: {company['exchangeShortName']}, Type: {company.get('type')}\")\n",
    "    \n",
    "    return indian_companies"
   ]
  },
  {
   "cell_type": "code",
   "execution_count": 18,
   "id": "00122694-17cc-4c33-836e-05cb95958b77",
   "metadata": {},
   "outputs": [],
   "source": [
    "def save_to_csv(data, filename):\n",
    "    filtered_data = [\n",
    "        {\n",
    "            \"symbol\": item.get(\"symbol\"),\n",
    "            \"name\": item.get(\"name\"),\n",
    "            \"exchange\": item.get(\"exchange\"),\n",
    "            \"exchangeShortName\": item.get(\"exchangeShortName\"),\n",
    "            \"type\": item.get(\"type\"),\n",
    "        }\n",
    "        for item in data\n",
    "    ]\n",
    "    \n",
    "    if filtered_data:\n",
    "        with open(filename, \"w\", newline=\"\", encoding=\"utf-8\") as csvfile:\n",
    "            writer = csv.DictWriter(csvfile, fieldnames=[\"symbol\", \"name\", \"exchange\", \"exchangeShortName\", \"type\"])\n",
    "            writer.writeheader()\n",
    "            writer.writerows(filtered_data)\n",
    "        print(f\"Data saved to {filename}\")"
   ]
  },
  {
   "cell_type": "code",
   "execution_count": 20,
   "id": "b2483b98-078e-4d3c-8a4c-6a2ff746367d",
   "metadata": {},
   "outputs": [],
   "source": [
    "def push_to_postgres(data, db_config):\n",
    "    try:\n",
    "        # Connect to PostgreSQL\n",
    "        conn = psycopg2.connect(**db_config)\n",
    "        cur = conn.cursor()\n",
    "        \n",
    "        # Create table if not exists\n",
    "        create_table_query = \"\"\"\n",
    "        CREATE TABLE IF NOT EXISTS indian_companies (\n",
    "            id SERIAL PRIMARY KEY,\n",
    "            symbol TEXT,\n",
    "            name TEXT,\n",
    "            exchange TEXT,\n",
    "            exchangeShortName TEXT,\n",
    "            type TEXT \n",
    "        );\n",
    "        \"\"\"\n",
    "        cur.execute(create_table_query)\n",
    "        \n",
    "        # Insert data (exclude price field)\n",
    "        for company in data:\n",
    "            insert_query = \"\"\"\n",
    "            INSERT INTO indian_companies (symbol, name, exchange, exchangeShortName, type)\n",
    "            VALUES (%s, %s, %s, %s, %s)\n",
    "            \"\"\"\n",
    "            cur.execute(insert_query, (\n",
    "                company.get(\"symbol\"),\n",
    "                company.get(\"name\"),\n",
    "                company.get(\"exchange\"),\n",
    "                company.get(\"exchangeShortName\"),\n",
    "                company.get(\"type\"),\n",
    "            ))\n",
    "        \n",
    "        # Commit changes and close connection\n",
    "        conn.commit()\n",
    "        cur.close()\n",
    "        conn.close()\n",
    "        print(\"Data successfully pushed to PostgreSQL (price excluded).\")\n",
    "    except Exception as e:\n",
    "        print(f\"Error pushing data to PostgreSQL: {e}\")\n"
   ]
  },
  {
   "cell_type": "code",
   "execution_count": 23,
   "id": "732dc697-ea20-4f18-b377-9070ed6310ba",
   "metadata": {},
   "outputs": [],
   "source": [
    "# PostgreSQL configuration\n",
    "db_config = {\n",
    "    \"host\": \"localhost\",\n",
    "    \"database\": \"chain8_fmp\",\n",
    "    \"user\": \"chain8_fmp\",\n",
    "    \"password\": \"chain8_fmp\",\n",
    "    \"port\": \"5433\"\n",
    "}"
   ]
  },
  {
   "cell_type": "code",
   "execution_count": 22,
   "id": "592aec66-d89b-4f0a-b66a-b134869465fe",
   "metadata": {
    "scrolled": true
   },
   "outputs": [
    {
     "name": "stdout",
     "output_type": "stream",
     "text": [
      "Total Indian Companies Found: 6440\n",
      "Symbol: GOKAKTEX.BO, Name: Gokak Textiles Limited, Exchange: BSE, Type: stock\n",
      "Symbol: IDEA.BO, Name: Vodafone Idea Limited, Exchange: BSE, Type: stock\n",
      "Symbol: AJMERA.BO, Name: Ajmera Realty & Infra India Limited, Exchange: BSE, Type: stock\n",
      "Symbol: RUDRA.BO, Name: Rudra Global Infra Products Limited, Exchange: BSE, Type: stock\n",
      "Symbol: SPICEJET.BO, Name: SpiceJet Limited, Exchange: BSE, Type: stock\n",
      "Data saved to indian_companies_fmp.csv\n",
      "Error pushing data to PostgreSQL: invalid integer value \"5433:5432\" for connection option \"port\"\n",
      "\n"
     ]
    }
   ],
   "source": [
    "# Fetch data\n",
    "indian_companies = fetch_indian_companies(API_KEY)\n",
    "\n",
    "# Save to CSV\n",
    "csv_filename = \"indian_companies_fmp.csv\"\n",
    "save_to_csv(indian_companies, csv_filename)\n",
    "\n"
   ]
  },
  {
   "cell_type": "code",
   "execution_count": 24,
   "id": "4143d471-0d98-45fd-90e7-1a843b9add7a",
   "metadata": {},
   "outputs": [
    {
     "name": "stdout",
     "output_type": "stream",
     "text": [
      "Data successfully pushed to PostgreSQL (price excluded).\n"
     ]
    }
   ],
   "source": [
    "# Push to PostgreSQL\n",
    "push_to_postgres(indian_companies, db_config)"
   ]
  },
  {
   "cell_type": "code",
   "execution_count": null,
   "id": "015e4335-6a9d-447b-a00c-f8b36e63138e",
   "metadata": {},
   "outputs": [],
   "source": []
  }
 ],
 "metadata": {
  "kernelspec": {
   "display_name": "Python 3 (ipykernel)",
   "language": "python",
   "name": "python3"
  },
  "language_info": {
   "codemirror_mode": {
    "name": "ipython",
    "version": 3
   },
   "file_extension": ".py",
   "mimetype": "text/x-python",
   "name": "python",
   "nbconvert_exporter": "python",
   "pygments_lexer": "ipython3",
   "version": "3.12.7"
  }
 },
 "nbformat": 4,
 "nbformat_minor": 5
}
